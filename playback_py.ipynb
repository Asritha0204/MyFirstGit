{
  "nbformat": 4,
  "nbformat_minor": 0,
  "metadata": {
    "colab": {
      "provenance": [],
      "authorship_tag": "ABX9TyMdvCNpuF5yuRiIpKTfsBQE",
      "include_colab_link": true
    },
    "kernelspec": {
      "name": "python3",
      "display_name": "Python 3"
    },
    "language_info": {
      "name": "python"
    }
  },
  "cells": [
    {
      "cell_type": "markdown",
      "metadata": {
        "id": "view-in-github",
        "colab_type": "text"
      },
      "source": [
        "<a href=\"https://colab.research.google.com/github/Asritha0204/MyFirstGit/blob/main/playback_py.ipynb\" target=\"_parent\"><img src=\"https://colab.research.google.com/assets/colab-badge.svg\" alt=\"Open In Colab\"/></a>"
      ]
    },
    {
      "cell_type": "code",
      "source": [
        "str1=\"This is CSE-B\"\n",
        "print(str1.replace(\" \",\"...\"))"
      ],
      "metadata": {
        "colab": {
          "base_uri": "https://localhost:8080/"
        },
        "id": "9cN_yNri63zA",
        "outputId": "f941e4a5-4b0b-4e5b-bfa9-b184cfd10958"
      },
      "execution_count": null,
      "outputs": [
        {
          "output_type": "stream",
          "name": "stdout",
          "text": [
            "this...is...CSE-B\n"
          ]
        }
      ]
    },
    {
      "cell_type": "code",
      "source": [
        "str2=\"This is Our week on functions\"\n",
        "result=str2.replace(\" \",\"...\")\n",
        "print(result)"
      ],
      "metadata": {
        "colab": {
          "base_uri": "https://localhost:8080/"
        },
        "id": "LHT2gcRg-pBD",
        "outputId": "d2c6d31b-30e5-4de9-c81c-0fdad98bcdb2"
      },
      "execution_count": null,
      "outputs": [
        {
          "output_type": "stream",
          "name": "stdout",
          "text": [
            "This...is...Our...week...on...functions\n"
          ]
        }
      ]
    },
    {
      "cell_type": "code",
      "source": [
        "def replace_str(Text):\n",
        "  return Text.replace(\" \",\"...\")\n",
        "def main():\n",
        "  Text=input(\"Enter a String:\")\n",
        "  result=replace_str(Text)\n",
        "  print(result)\n",
        "if __name__==\"__main__\":\n",
        "  main()"
      ],
      "metadata": {
        "colab": {
          "base_uri": "https://localhost:8080/"
        },
        "id": "tAtcvzjB_RrY",
        "outputId": "fc170f05-0122-46d7-91a8-48dae1a6783f"
      },
      "execution_count": null,
      "outputs": [
        {
          "output_type": "stream",
          "name": "stdout",
          "text": [
            "Enter a String:This is CSE-B\n",
            "This...is...CSE-B\n"
          ]
        }
      ]
    },
    {
      "cell_type": "code",
      "source": [
        "print('...'.join(input().split()))"
      ],
      "metadata": {
        "id": "W3SqITXQBovc"
      },
      "execution_count": null,
      "outputs": []
    },
    {
      "cell_type": "code",
      "source": [
        "|"
      ],
      "metadata": {
        "id": "tkncNkhLAfec"
      },
      "execution_count": null,
      "outputs": []
    }
  ]
}